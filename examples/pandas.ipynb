{
 "cells": [
  {
   "cell_type": "code",
   "execution_count": 7,
   "metadata": {
    "collapsed": true
   },
   "outputs": [],
   "source": [
    "import pandas as pd\n",
    "\n",
    "import numpy as np\n",
    "\n",
    "import io3d"
   ]
  },
  {
   "cell_type": "code",
   "execution_count": 55,
   "metadata": {
    "collapsed": false
   },
   "outputs": [
    {
     "name": "stdout",
     "output_type": "stream",
     "text": [
      "{'above liver': 0, 'under liver': 2, 'liver': 1}\n",
      "['u', 'n', 'd', 'e', 'r', ' ', 'l', 'i', 'v', 'e', 'r', None, None, None, None, None, None, None, None, None, None, None, None, None, None, None, None, None, None, None, None, None, None, None, None, None, None, None, None, None, None, None, None, None, None, None, None, None, None, None, None, None, None, None, None, 'l', 'i', 'v', 'e', 'r', None, None, None, None, None, None, None, None, None, None, None, None, None, None, None, None, None, None, None, None, None, None, None, None, None, None, None, None, None, None, None, None, None, None, None, None, None, None, None, None, 'a', 'b', 'o', 'v', 'e', ' ', 'l', 'i', 'v', 'e', 'r']\n"
     ]
    }
   ],
   "source": [
    "df = pd.read_csv(\"../train/train.csv\")\n",
    "\n",
    "labs = np.unique(df[\"label\"])\n",
    "vals = range(len(labs))\n",
    "\n",
    "slab = dict(zip(labs, vals))\n",
    "print slab\n",
    "\n",
    "fn_unique = np.unique(df[\"filename\"])\n",
    "\n",
    "\n",
    "\n",
    "this_fn = fn_unique[0]\n",
    "one_file = df[df[\"filename\"] == this_fn]\n",
    "\n",
    "\n",
    "maximum_slice_number = np.max(np.max(one_file[[\"start_slice_number\", \"stop_slice_number\"]]))\n",
    "\n",
    "labels = [None] * maximum_slice_number\n",
    "\n",
    "# for val, keym in enumerate():\n",
    "#     print val, key, uu\n",
    "\n",
    "dct = one_file[[\"label\", \"start_slice_number\", \"stop_slice_number\"]].to_dict()\n",
    "for i in range(len(dct[\"start_slice_number\"])):\n",
    "    labels[dct[\"start_slice_number\"][i] : dct[\"stop_slice_number\"][i]] = dct[\"label\"][i]\n",
    "\n",
    "print labels"
   ]
  },
  {
   "cell_type": "code",
   "execution_count": 50,
   "metadata": {
    "collapsed": false
   },
   "outputs": [
    {
     "data": {
      "text/plain": [
       "<bound method DataFrame.to_dict of    Unnamed: 0           filename        label  start_slice_number  \\\n",
       "0           0  train/data01.pklz  under liver                   0   \n",
       "1           1  train/data01.pklz        liver                  55   \n",
       "2           2  train/data01.pklz  above liver                 100   \n",
       "\n",
       "   stop_slice_number  \n",
       "0                 54  \n",
       "1                 99  \n",
       "2                300  >"
      ]
     },
     "execution_count": 50,
     "metadata": {},
     "output_type": "execute_result"
    }
   ],
   "source": [
    "df.to_dict"
   ]
  }
 ],
 "metadata": {
  "kernelspec": {
   "display_name": "Python 2",
   "language": "python",
   "name": "python2"
  },
  "language_info": {
   "codemirror_mode": {
    "name": "ipython",
    "version": 2
   },
   "file_extension": ".py",
   "mimetype": "text/x-python",
   "name": "python",
   "nbconvert_exporter": "python",
   "pygments_lexer": "ipython2",
   "version": "2.7.11"
  }
 },
 "nbformat": 4,
 "nbformat_minor": 0
}
